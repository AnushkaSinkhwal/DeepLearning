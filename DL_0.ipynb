{
  "nbformat": 4,
  "nbformat_minor": 0,
  "metadata": {
    "colab": {
      "provenance": [],
      "authorship_tag": "ABX9TyNsU6QenRVOTbYZ7anBFY2E",
      "include_colab_link": true
    },
    "kernelspec": {
      "name": "python3",
      "display_name": "Python 3"
    },
    "language_info": {
      "name": "python"
    }
  },
  "cells": [
    {
      "cell_type": "markdown",
      "metadata": {
        "id": "view-in-github",
        "colab_type": "text"
      },
      "source": [
        "<a href=\"https://colab.research.google.com/github/AnushkaSinkhwal/DeepLearning/blob/main/DL_0.ipynb\" target=\"_parent\"><img src=\"https://colab.research.google.com/assets/colab-badge.svg\" alt=\"Open In Colab\"/></a>"
      ]
    },
    {
      "cell_type": "markdown",
      "source": [
        "#  Exercise on function"
      ],
      "metadata": {
        "id": "RHU5ji1xEMr7"
      }
    },
    {
      "cell_type": "code",
      "source": [
        "def unit_converter():\n",
        "    \"\"\"Converts between different units of measurement based on user choice.\"\"\"\n",
        "    print(\"Welcome to the Unit Converter!\")\n",
        "    print(\"Please choose a conversion type:\")\n",
        "    conversions = {\n",
        "        \"1\": (\"Meters to Feet\", lambda x: x * 3.28084),\n",
        "        \"2\": (\"Feet to Meters\", lambda x: x / 3.28084),\n",
        "        \"3\": (\"Kilograms to Pounds\", lambda x: x * 2.20462),\n",
        "        \"4\": (\"Pounds to Kilograms\", lambda x: x / 2.20462),\n",
        "        \"5\": (\"Liters to Gallons\", lambda x: x * 0.264172),\n",
        "        \"6\": (\"Gallons to Liters\", lambda x: x / 0.264172),\n",
        "    }\n",
        "    while True:\n",
        "        # Display conversion options\n",
        "        print(\"\\nChoose a conversion type:\")\n",
        "        for key, (desc, _) in conversions.items():\n",
        "            print(f\"{key}. {desc}\")\n",
        "        choice = input(\"Enter 1, 2, 3, 4, 5, or 6: \").strip()\n",
        "        if choice not in conversions:\n",
        "            print(\"Invalid choice. Please try again.\")\n",
        "            continue  # Restart the loop\n",
        "        try:\n",
        "            value = float(input(\"Enter the value to convert: \").strip())\n",
        "            print(f\"Converted Value: {conversions[choice][1](value):.4f}\")  # Format output to 4 decimals\n",
        "        except ValueError:\n",
        "            print(\"Invalid input. Please enter a numeric value.\")\n",
        "            continue  # Restart the loop\n",
        "        # Ask the user if they want to perform another conversion\n",
        "        restart = input(\"Would you like to perform another operation? (yes/no): \").strip().lower()\n",
        "        if restart != \"yes\":\n",
        "            print(\"Exiting the unit converter. Goodbye!\")\n",
        "            break\n",
        "\n",
        "unit_converter()"
      ],
      "metadata": {
        "colab": {
          "base_uri": "https://localhost:8080/"
        },
        "id": "Sk_msfTOeVW9",
        "outputId": "78e86ab1-7ff1-4d9a-e6cd-b23717b6c089"
      },
      "execution_count": null,
      "outputs": [
        {
          "output_type": "stream",
          "name": "stdout",
          "text": [
            "Welcome to the Unit Converter!\n",
            "Please choose a conversion type:\n",
            "\n",
            "Choose a conversion type:\n",
            "1. Meters to Feet\n",
            "2. Feet to Meters\n",
            "3. Kilograms to Pounds\n",
            "4. Pounds to Kilograms\n",
            "5. Liters to Gallons\n",
            "6. Gallons to Liters\n",
            "Enter 1, 2, 3, 4, 5, or 6: 1\n",
            "Enter the value to convert: 23\n",
            "Converted Value: 75.4593\n",
            "Would you like to perform another operation? (yes/no): no\n",
            "Exiting the unit converter. Goodbye!\n"
          ]
        }
      ]
    },
    {
      "cell_type": "code",
      "source": [
        "def list_operations():\n",
        "    \"\"\"Performs basic math operations (sum, average, max, min) on a list of numbers.\"\"\"\n",
        "    print(\"Choose an operation:\")\n",
        "    print(\"1. Sum\")\n",
        "    print(\"2. Average\")\n",
        "    print(\"3. Maximum\")\n",
        "    print(\"4. Minimum\")\n",
        "    choice = input(\"Enter 1, 2, 3, or 4: \")\n",
        "    if choice not in [\"1\", \"2\", \"3\", \"4\"]:\n",
        "        print(\"Invalid choice.\")\n",
        "        return\n",
        "    try:\n",
        "        numbers = list(map(float, input(\"Enter numbers separated by space: \").split()))\n",
        "        if not numbers:\n",
        "            print(\"Error: List is empty.\")\n",
        "            return\n",
        "        if choice == \"1\":\n",
        "            print(\"Sum:\", sum(numbers))\n",
        "        elif choice == \"2\":\n",
        "            print(\"Average:\", sum(numbers) / len(numbers))\n",
        "        elif choice == \"3\":\n",
        "            print(\"Maximum:\", max(numbers))\n",
        "        elif choice == \"4\":\n",
        "            print(\"Minimum:\", min(numbers))\n",
        "    except ValueError:\n",
        "        print(\"Invalid input. Please enter numeric values.\")\n",
        "        list_operations()\n"
      ],
      "metadata": {
        "id": "ZPx5WMXUecZK"
      },
      "execution_count": null,
      "outputs": []
    },
    {
      "cell_type": "code",
      "source": [
        "list_operations()"
      ],
      "metadata": {
        "id": "j2xbObF_ezS1"
      },
      "execution_count": null,
      "outputs": []
    },
    {
      "cell_type": "markdown",
      "source": [
        "# Exercise on  List Manipulation"
      ],
      "metadata": {
        "id": "CzsaPSFakorh"
      }
    },
    {
      "cell_type": "markdown",
      "source": [
        "* Extract Every Other Element"
      ],
      "metadata": {
        "id": "Scb2bdbyks3l"
      }
    },
    {
      "cell_type": "code",
      "source": [
        "def extract_every_other(lst):\n",
        "    \"\"\"\n",
        "    Extracts every other element from a list, starting from the first element.\n",
        "    Parameters:\n",
        "        lst (list): The input list.\n",
        "    Returns:\n",
        "        list: A new list containing every other element from the original list.\n",
        "    \"\"\"\n",
        "    return lst[::2]\n",
        "New_list = [1, 3, 5, 7, 8, 9]\n",
        "Extract_list = extract_every_other(New_list)\n",
        "print(Extract_list)"
      ],
      "metadata": {
        "id": "cQM5MGr_e-2Y"
      },
      "execution_count": null,
      "outputs": []
    },
    {
      "cell_type": "markdown",
      "source": [
        "* Slice a sublist"
      ],
      "metadata": {
        "id": "zC9HstKpk0UO"
      }
    },
    {
      "cell_type": "code",
      "source": [
        "def get_sublist(lst, start, end):\n",
        "    \"\"\"\n",
        "    Returns a sublist from a given list, starting from a specified index and ending at another specified index.\n",
        "    Parameters:\n",
        "        lst (list): The input list.\n",
        "        start (int): The starting index (inclusive).\n",
        "        end (int): The ending index (inclusive).\n",
        "    Returns:\n",
        "        list: A new list containing elements from the specified range.\n",
        "    \"\"\"\n",
        "    return lst[start:end+1]  # +1 to include the end index\n",
        "list = [11, 22, 33, 43, 54, 67]\n",
        "result = get_sublist(list, 2, 4)\n",
        "print(result)"
      ],
      "metadata": {
        "id": "wrLjmpf-fP-d"
      },
      "execution_count": null,
      "outputs": []
    },
    {
      "cell_type": "markdown",
      "source": [
        "* Reverse list using slicing"
      ],
      "metadata": {
        "id": "DfbZjmNGk5eb"
      }
    },
    {
      "cell_type": "code",
      "source": [
        "def reverse_list(lst):\n",
        "    \"\"\"\n",
        "    Reverses a list using slicing.\n",
        "    Parameters:\n",
        "        lst (list): The input list.\n",
        "    Returns:\n",
        "        list: A new list with elements in reverse order.\n",
        "    \"\"\"\n",
        "    return lst[::-1]  # Slicing with step -1 reverses the list\n",
        "# Example usage\n",
        "list = [12, 23, 34, 45, 56]\n",
        "result = reverse_list(list)\n",
        "print(result)"
      ],
      "metadata": {
        "id": "c-oNHMyDflEY"
      },
      "execution_count": null,
      "outputs": []
    },
    {
      "cell_type": "markdown",
      "source": [
        "* remove first letter"
      ],
      "metadata": {
        "id": "3KhkwSQ4lAOO"
      }
    },
    {
      "cell_type": "code",
      "source": [
        "def remove_first_last(lst):\n",
        "    \"\"\"\n",
        "    Removes the first and last elements of a list and returns the resulting sublist.\n",
        "    Parameters:\n",
        "        lst (list): The input list.\n",
        "    Returns:\n",
        "        list: A new list without the first and last elements.\n",
        "    \"\"\"\n",
        "    return lst[1:-1]\n",
        "list = [12, 24, 36, 47, 59]\n",
        "result = remove_first_last(list)\n",
        "print(result)"
      ],
      "metadata": {
        "id": "M8ImsKydgRFd"
      },
      "execution_count": null,
      "outputs": []
    },
    {
      "cell_type": "markdown",
      "source": [
        "* get first element"
      ],
      "metadata": {
        "id": "y-kklwxrlCrm"
      }
    },
    {
      "cell_type": "code",
      "source": [
        "def get_first_n(lst, n):\n",
        "    \"\"\"\n",
        "    Extracts the first n elements from a list.\n",
        "    Parameters:\n",
        "        lst (list): The input list.\n",
        "        n (int): The number of elements to extract.\n",
        "    Returns:\n",
        "        list: A new list containing the first n elements.\n",
        "    \"\"\"\n",
        "    return lst[:n]\n",
        "list = [11, 22, 33, 44, 55]\n",
        "n = 3\n",
        "result = get_first_n(list, n)\n",
        "print(result)"
      ],
      "metadata": {
        "id": "kBkH60tKgSUN"
      },
      "execution_count": null,
      "outputs": []
    },
    {
      "cell_type": "markdown",
      "source": [
        "* get last element"
      ],
      "metadata": {
        "id": "c4B-Mn_dlFUd"
      }
    },
    {
      "cell_type": "code",
      "source": [
        "def get_last_n(lst, n):\n",
        "    \"\"\"\n",
        "    Extracts the last n elements from a list.\n",
        "    Parameters:\n",
        "        lst (list): The input list.\n",
        "        n (int): The number of elements to extract from the end.\n",
        "    Returns:\n",
        "        list: A new list containing the last n elements.\n",
        "    \"\"\"\n",
        "    return lst[-n:]\n",
        "list = [14, 25, 33, 44, 55]\n",
        "n = 2\n",
        "result = get_last_n(list, n)\n",
        "print(result)"
      ],
      "metadata": {
        "id": "G7VXoxSwgVnY"
      },
      "execution_count": null,
      "outputs": []
    },
    {
      "cell_type": "markdown",
      "source": [
        "* extract elements in reverse order"
      ],
      "metadata": {
        "id": "kOkdUi03lReT"
      }
    },
    {
      "cell_type": "code",
      "source": [
        "def reverse_skip(lst):\n",
        "    \"\"\"\n",
        "    Extracts elements in reverse order, starting from the second-to-last element\n",
        "    and skipping one element in between.\n",
        "    Parameters:\n",
        "        lst (list): The input list.\n",
        "    Returns:\n",
        "        list: A new list containing every second element in reverse order.\n",
        "    \"\"\"\n",
        "    return lst[-2::-2]\n",
        "list = [13, 25, 36, 45, 55, 66]\n",
        "result = reverse_skip(list)\n",
        "print(result)"
      ],
      "metadata": {
        "id": "9S-0JQoVgX5D"
      },
      "execution_count": null,
      "outputs": []
    },
    {
      "cell_type": "markdown",
      "source": [
        "# Exercise on Nested List"
      ],
      "metadata": {
        "id": "CH-kk7wdglBj"
      }
    },
    {
      "cell_type": "markdown",
      "source": [
        "* Flattened a nested list"
      ],
      "metadata": {
        "id": "qi3_YnkMgoeO"
      }
    },
    {
      "cell_type": "code",
      "source": [
        "def flatten(lst):\n",
        "    \"\"\"\n",
        "    Flattens a nested list into a single list without using recursion.\n",
        "    Parameters:\n",
        "        lst (list): The nested list to flatten.\n",
        "    Returns:\n",
        "        list: A new list containing all elements from the nested list in a single dimension.\n",
        "    \"\"\"\n",
        "    flat_list = sum(lst, [])\n",
        "    return flat_list\n",
        "list = [[1, 2], [3, 4], [5]]\n",
        "result = flatten(list)\n",
        "print(result)"
      ],
      "metadata": {
        "id": "Uq7_aV8YgaAU"
      },
      "execution_count": null,
      "outputs": []
    },
    {
      "cell_type": "markdown",
      "source": [
        "* Accesssing nested list element\n"
      ],
      "metadata": {
        "id": "SSMFUr9igsnb"
      }
    },
    {
      "cell_type": "code",
      "source": [
        "def access_nested_element(lst, indices):\n",
        "    \"\"\"\n",
        "    Extracts a specific element from a nested list given its indices.\n",
        "    Parameters:\n",
        "        lst (list): The nested list.\n",
        "        indices (list): A list of indices representing the path to the desired element.\n",
        "    Returns:\n",
        "        any: The element at the specified indices.\n",
        "    \"\"\"\n",
        "    element = lst\n",
        "    for index in indices:\n",
        "        element = element[index]\n",
        "    return element\n",
        "nested_list = [[1, 2, 3], [4, 5, 6], [7, 8, 9]]\n",
        "indices = [2, 2]\n",
        "result = access_nested_element(nested_list, indices)\n",
        "print(result)"
      ],
      "metadata": {
        "id": "Hsgm-OrDgcLZ"
      },
      "execution_count": null,
      "outputs": []
    },
    {
      "cell_type": "markdown",
      "source": [
        "* Sum of elements\n"
      ],
      "metadata": {
        "id": "c5fbf4bMg1Tg"
      }
    },
    {
      "cell_type": "code",
      "source": [
        "def sum_nested(lst):\n",
        "    total = 0\n",
        "    for item in lst:\n",
        "        if isinstance(item, list):\n",
        "            total += sum_nested(item)  # Recursively sum nested lists\n",
        "        else:\n",
        "            total += item\n",
        "    return total  # Explicitly return total\n",
        "\n",
        "nested_list = [[1, 2], [3, [4, 5]], 6]\n",
        "print(sum_nested(nested_list))\n"
      ],
      "metadata": {
        "id": "Oh0TFtN3g352"
      },
      "execution_count": null,
      "outputs": []
    },
    {
      "cell_type": "markdown",
      "source": [
        "* Removing  specific element from list"
      ],
      "metadata": {
        "id": "ETlmMKLth5Fk"
      }
    },
    {
      "cell_type": "code",
      "source": [
        "def remove_element(lst, elem):\n",
        "    result = []\n",
        "    for item in lst:\n",
        "        if isinstance(item, list):\n",
        "            filtered_sublist = remove_element(item, elem)  # Recursively filter nested lists\n",
        "            if filtered_sublist:  # Only append non-empty lists\n",
        "                result.append(filtered_sublist)\n",
        "        elif item != elem:\n",
        "            result.append(item)  # Append only non-matching elements\n",
        "    return result\n",
        "nested_list = [[1, 2], [3, 2], [4, 5]]\n",
        "element_to_remove = 2\n",
        "print(remove_element(nested_list, element_to_remove))"
      ],
      "metadata": {
        "id": "WMO6P2rlh2kV"
      },
      "execution_count": null,
      "outputs": []
    },
    {
      "cell_type": "markdown",
      "source": [
        "* maximum element in a nested list\n"
      ],
      "metadata": {
        "id": "UlzHaW6Xh_vZ"
      }
    },
    {
      "cell_type": "code",
      "source": [
        "def find_max(lst):\n",
        "    max_val = float('-inf')\n",
        "    for item in lst:\n",
        "        if isinstance(item, list):\n",
        "            max_val = max(max_val, find_max(item))  # Recursively find max in nested lists\n",
        "        else:\n",
        "            max_val = max(max_val, item)  # Update max if item is greater\n",
        "    return max_val\n",
        "nested_list = [[1, 2], [3, [44, 5]], 7]\n",
        "print(find_max(nested_list))"
      ],
      "metadata": {
        "id": "2s1OsvP1iEbW"
      },
      "execution_count": null,
      "outputs": []
    },
    {
      "cell_type": "markdown",
      "source": [
        "* Count Occurrences"
      ],
      "metadata": {
        "id": "MVwqtx8EiNxj"
      }
    },
    {
      "cell_type": "code",
      "source": [
        "def count_occurrences(lst, elem):\n",
        "    count = 0\n",
        "    for item in lst:\n",
        "        if isinstance(item, list):\n",
        "            count += count_occurrences(item, elem)  # Recursively count occurrences in nested lists\n",
        "        elif item == elem:\n",
        "            count += 1  # Increment count if item matches elem\n",
        "    return count\n",
        "nested_list = [[1, 2], [2, 3], [2, 4]]\n",
        "element_to_count = 3\n",
        "print(count_occurrences(nested_list, element_to_count))"
      ],
      "metadata": {
        "id": "dhNXFcyKiP0y"
      },
      "execution_count": null,
      "outputs": []
    },
    {
      "cell_type": "markdown",
      "source": [
        "* flatten a list of lists of lists"
      ],
      "metadata": {
        "id": "zvtYBgk3iTrU"
      }
    },
    {
      "cell_type": "code",
      "source": [
        "def deep_flatten(lst):\n",
        "    flat_list = []\n",
        "    for item in lst:\n",
        "        if isinstance(item, list):\n",
        "            flat_list.extend(deep_flatten(item))  # Recursively flatten nested lists\n",
        "        else:\n",
        "            flat_list.append(item)\n",
        "    return flat_list\n",
        "nested_list = [[[1, 2], [3, 4]], [[5, 6], [7, 8]]]\n",
        "print(deep_flatten(nested_list))"
      ],
      "metadata": {
        "id": "KbTmqrsPiZFX"
      },
      "execution_count": null,
      "outputs": []
    },
    {
      "cell_type": "markdown",
      "source": [
        "* Nested List Average"
      ],
      "metadata": {
        "id": "Jrq-R2CJilGM"
      }
    },
    {
      "cell_type": "code",
      "source": [
        "def sum_and_count(lst):\n",
        "    total = 0\n",
        "    count = 0\n",
        "    for item in lst:\n",
        "        if isinstance(item, list):\n",
        "            sub_total, sub_count = sum_and_count(item)  # Recursively sum and count elements\n",
        "            total += sub_total\n",
        "            count += sub_count\n",
        "        else:\n",
        "            total += item\n",
        "            count += 1\n",
        "    return total, count\n",
        "def average_nested(lst):\n",
        "    total, count = sum_and_count(lst)\n",
        "    return total / count if count > 0 else 0\n",
        "nested_list = [[1, 22], [3, 4], [5, 6]]\n",
        "print(average_nested(nested_list))"
      ],
      "metadata": {
        "id": "Dllslt3kibTz"
      },
      "execution_count": null,
      "outputs": []
    },
    {
      "cell_type": "markdown",
      "source": [
        "# To-Do - Numpy"
      ],
      "metadata": {
        "id": "c4tIUTLhiz5I"
      }
    },
    {
      "cell_type": "markdown",
      "source": [
        "* Array Creation"
      ],
      "metadata": {
        "id": "M6hAAh6zi4jI"
      }
    },
    {
      "cell_type": "code",
      "source": [
        "import numpy as np\n",
        "# 1. set an empty array with size 2x2\n",
        "empty_array = np.empty((2,2))\n",
        "# 2.set an all-one array with size 4x2\n",
        "ones_array = np.ones((4,2))\n",
        "# 3. Return a new array of given shape and type, filled with a given value\n",
        "filled_array = np.full((3,3), 7)\n",
        "# 4. Return a new array of zeros with the same shape and type as a given array\n",
        "reference_array = np.array([[1, 2], [3, 4]])\n",
        "zeros_like_array = np.zeros_like(reference_array)\n",
        "# 5. Return a new array of ones with the same shape and type as a given array\n",
        "ones_like_array = np.ones_like(reference_array)\n",
        "# 6. Convert an existing list to a numpy array\n",
        "new_list = [1, 2, 3, 4]\n",
        "numpy_array = np.array(new_list)\n",
        "print(\"1. Empty Array (2x2):\\n\", empty_array, \"\\n\")\n",
        "print(\"2. All Ones Array (4x2):\\n\", ones_array, \"\\n\")\n",
        "print(\"3. Filled Array (3x3) with 7:\\n\", filled_array, \"\\n\")\n",
        "print(\"4. Zeros Like Reference Array:\\n\", zeros_like_array, \"\\n\")\n",
        "print(\"5. Ones Like Reference Array:\\n\", ones_like_array, \"\\n\")\n",
        "print(\"6. Converted List to Numpy Array:\\n\", numpy_array, \"\\n\")"
      ],
      "metadata": {
        "id": "pp_t4v3ri67O"
      },
      "execution_count": null,
      "outputs": []
    },
    {
      "cell_type": "markdown",
      "source": [
        "* Array Manipulation"
      ],
      "metadata": {
        "id": "JuZcAa7ljAia"
      }
    },
    {
      "cell_type": "code",
      "source": [
        "# 1. Create an array with values ranging from 10 to 49\n",
        "array_range = np.arange(10, 50)\n",
        "print(\"1. Array with values from 10 to 49:\\n\", array_range, \"\\n\")\n",
        "# 2. Create a 3x3 matrix with values ranging from 0 to 8\n",
        "matrix_3x3 = np.arange(9).reshape(3, 3)\n",
        "print(\"2. 3x3 Matrix with values from 0 to 8:\\n\", matrix_3x3, \"\\n\")\n",
        "# 3. Create a 3x3 identity matrix\n",
        "identity_matrix = np.eye(3)\n",
        "print(\"3. 3x3 Identity Matrix:\\n\", identity_matrix, \"\\n\")\n",
        "# 4. Create a random array of size 30 and find the mean of the array\n",
        "random_array_30 = np.random.random(30)\n",
        "mean_value = random_array_30.mean()\n",
        "print(\"4. Mean of a random array of size 30:\", mean_value, \"\\n\")\n",
        "# 5. Create a 10x10 array with random values and find the min and max values\n",
        "random_matrix_10x10 = np.random.random((10, 10))\n",
        "min_value = random_matrix_10x10.min()\n",
        "max_value = random_matrix_10x10.max()\n",
        "print(\"5. 10x10 Random Matrix Min Value:\", min_value)\n",
        "print(\"   10x10 Random Matrix Max Value:\", max_value, \"\\n\")\n",
        "# 6. Create a zero array of size 10 and replace the 5th element with 1\n",
        "zero_array = np.zeros(10)\n",
        "zero_array[4] = 1\n",
        "print(\"6. Zero Array with 5th element as 1:\\n\", zero_array, \"\\n\")\n",
        "# 7. Reverse an array arr = [1,2,0,0,4,0]\n",
        "arr = np.array([1,2,0,0,4,0])\n",
        "reversed_arr = arr[::-1]\n",
        "print(\"7. Reversed Array:\\n\", reversed_arr, \"\\n\")\n",
        "# 8. Create a 2D array with 1 on the border and 0 inside\n",
        "border_array = np.ones((5,5))\n",
        "border_array[1:-1, 1:-1] = 0\n",
        "print(\"8. 2D Array with border 1 and inside 0:\\n\", border_array, \"\\n\")\n",
        "# 9. Create an 8x8 matrix and fill it with a checkerboard pattern\n",
        "checkerboard = np.zeros((8,8), dtype=int)\n",
        "checkerboard[1::2, ::2] = 1  # Filling 1s at alternate positions\n",
        "checkerboard[::2, 1::2] = 1\n",
        "print(\"9. 8x8 Checkerboard Pattern:\\n\", checkerboard, \"\\n\")"
      ],
      "metadata": {
        "id": "V90ktDFNjJU0"
      },
      "execution_count": null,
      "outputs": []
    },
    {
      "cell_type": "markdown",
      "source": [
        "* Array Operations"
      ],
      "metadata": {
        "id": "ZVOAeLpEjPvN"
      }
    },
    {
      "cell_type": "code",
      "source": [
        "# Define the given arrays\n",
        "x = np.array([[1, 2], [3, 5]])\n",
        "y = np.array([[5, 6], [7, 8]])\n",
        "v = np.array([9, 10])\n",
        "w = np.array([11, 12])\n",
        "# 1. Add the two arrays x and y\n",
        "sum_xy = x + y\n",
        "print(\"1. Sum of x and y:\\n\", sum_xy, \"\\n\")\n",
        "# 2. Subtract the two arrays x and y\n",
        "diff_xy = x - y\n",
        "print(\"2. Difference of x and y:\\n\", diff_xy, \"\\n\")\n",
        "\n",
        "# 3. Multiply the array x with an integer (e.g., 3)\n",
        "multiplied_x = x * 3\n",
        "print(\"3. x multiplied by 3:\\n\", multiplied_x, \"\\n\")\n",
        "# 4. Find the square of each element of x\n",
        "square_x = np.square(x)\n",
        "print(\"4. Square of elements in x:\\n\", square_x, \"\\n\")\n",
        "\n",
        "# 5. Find the dot product between:\n",
        "dot_vw = np.dot(v, w)  # v . w\n",
        "dot_xv = np.dot(x, v)  # x . v\n",
        "dot_xy = np.dot(x, y)  # x . y\n",
        "print(\"5. Dot product v . w:\", dot_vw)\n",
        "print(\"   Dot product x . v:\\n\", dot_xv)\n",
        "print(\"   Dot product x . y:\\n\", dot_xy, \"\\n\")\n",
        "# 6. Concatenate x and y along rows & v and w along columns\n",
        "concat_xy_row = np.concatenate((x, y), axis=0)  # Row-wise concatenation\n",
        "concat_vw_col = np.column_stack((v, w))  # Column-wise concatenation\n",
        "print(\"6. Concatenation of x and y along rows:\\n\", concat_xy_row, \"\\n\")\n",
        "print(\"   Concatenation of v and w along columns:\\n\", concat_vw_col, \"\\n\")\n",
        "# 7. Attempt to concatenate x and v\n",
        "try:\n",
        "    concat_xv = np.concatenate((x, v), axis=0)  # This should raise an error\n",
        "except ValueError as e:\n",
        "    concat_xv = str(e)  # Capture the error message\n",
        "print(\"7. Attempt to Concatenate x and v (Expected Error):\\n\", concat_xv, \"\\n\")"
      ],
      "metadata": {
        "id": "MkWyOVoujRrb"
      },
      "execution_count": null,
      "outputs": []
    },
    {
      "cell_type": "markdown",
      "source": [],
      "metadata": {
        "id": "MrAJ7ZeqjTFB"
      }
    },
    {
      "cell_type": "markdown",
      "source": [
        "# How fast is NumPy?"
      ],
      "metadata": {
        "id": "J47kGn9mjYRe"
      }
    },
    {
      "cell_type": "code",
      "source": [
        "import numpy as np\n",
        "import time"
      ],
      "metadata": {
        "id": "IJnULV_hjabL"
      },
      "execution_count": null,
      "outputs": []
    },
    {
      "cell_type": "markdown",
      "source": [
        "* Element wise addition"
      ],
      "metadata": {
        "id": "u_mGlxuQjl04"
      }
    },
    {
      "cell_type": "code",
      "source": [
        "# Define size parameters\n",
        "size = 1_000_000  # 1 million elements\n",
        "matrix_size = 1000  # 1000x1000 matrix\n",
        "# Generate random data for lists and arrays\n",
        "list1 = [i for i in range(size)]\n",
        "list2 = [i for i in range(size)]\n",
        "array1 = np.arange(size)\n",
        "array2 = np.arange(size)\n",
        "# 1. Element-wise Addition\n",
        "# Using Python lists\n",
        "start_time = time.time()\n",
        "list_addition = [list1[i] + list2[i] for i in range(size)]\n",
        "list_add_time = time.time() - start_time\n",
        "# Using NumPy arrays\n",
        "start_time = time.time()\n",
        "array_addition = array1 + array2\n",
        "array_add_time = time.time() - start_time\n",
        "print(f\"Element-wise Addition - Python List Time: {list_add_time:.6f} sec\")\n",
        "print(f\"Element-wise Addition - NumPy Array Time: {array_add_time:.6f} sec\\n\")"
      ],
      "metadata": {
        "id": "3IhM_Ol5jgKa"
      },
      "execution_count": null,
      "outputs": []
    },
    {
      "cell_type": "markdown",
      "source": [
        "* Element wise multiplication"
      ],
      "metadata": {
        "id": "7Qgq4d5qjpDx"
      }
    },
    {
      "cell_type": "code",
      "source": [
        "\n",
        "# Using Python lists\n",
        "start_time = time.time()\n",
        "list_multiplication = [list1[i] * list2[i] for i in range(size)]\n",
        "list_mult_time = time.time() - start_time\n",
        "# Using NumPy arrays\n",
        "start_time = time.time()\n",
        "array_multiplication = array1 * array2\n",
        "array_mult_time = time.time() - start_time\n",
        "print(f\"Element-wise Multiplication - Python List Time: {list_mult_time:.6f} sec\")\n",
        "print(f\"Element-wise Multiplication - NumPy Array Time: {array_mult_time:.6f} sec\\n\")"
      ],
      "metadata": {
        "id": "DPrPuccojr_-"
      },
      "execution_count": null,
      "outputs": []
    },
    {
      "cell_type": "markdown",
      "source": [
        "* dot product"
      ],
      "metadata": {
        "id": "zKr4iCqpjxiB"
      }
    },
    {
      "cell_type": "code",
      "source": [
        "# Using Python lists\n",
        "start_time = time.time()\n",
        "dot_product_list = sum(list1[i] * list2[i] for i in range(size))\n",
        "list_dot_time = time.time() - start_time\n",
        "# Using NumPy arrays\n",
        "start_time = time.time()\n",
        "dot_product_array = np.dot(array1, array2)\n",
        "array_dot_time = time.time() - start_time\n",
        "print(f\"Dot Product - Python List Time: {list_dot_time:.6f} sec\")\n",
        "print(f\"Dot Product - NumPy Array Time: {array_dot_time:.6f} sec\\n\")"
      ],
      "metadata": {
        "id": "k8oe4ElWj0tr"
      },
      "execution_count": null,
      "outputs": []
    },
    {
      "cell_type": "markdown",
      "source": [
        "* Matrix Multiplication (Skipping Python Lists Due to Slow Execution)"
      ],
      "metadata": {
        "id": "pemwklNEj7Hf"
      }
    },
    {
      "cell_type": "code",
      "source": [
        "\n",
        "# Generate random 1000x1000 matrices for NumPy\n",
        "array_matrix1 = np.arange(matrix_size**2).reshape(matrix_size, matrix_size)\n",
        "array_matrix2 = np.arange(matrix_size**2).reshape(matrix_size, matrix_size)\n",
        "# Using NumPy arrays\n",
        "start_time = time.time()\n",
        "array_matrix_result = np.dot(array_matrix1, array_matrix2)\n",
        "array_matrix_time = time.time() - start_time\n",
        "print(f\"Matrix Multiplication (1000x1000) - NumPy Array Time: {array_matrix_time:.6f} sec\")\n",
        "print(\"Matrix Multiplication using Python Lists skipped due to slow execution.\")"
      ],
      "metadata": {
        "id": "2sfWpx1Gj7q3"
      },
      "execution_count": null,
      "outputs": []
    },
    {
      "cell_type": "markdown",
      "source": [
        "** Here we can say that by the evaluating of the output, Numpy is more faster rather than python list in all operations. Matrix multiplication using Numpy is faster while python list takes too much time to give the output."
      ],
      "metadata": {
        "id": "tjEzBwb5kDN8"
      }
    }
  ]
}